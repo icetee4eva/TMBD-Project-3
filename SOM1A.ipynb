{
 "cells": [
  {
   "cell_type": "markdown",
   "metadata": {},
   "source": [
    "# Self-Organising Maps"
   ]
  },
  {
   "cell_type": "code",
   "execution_count": 1,
   "metadata": {},
   "outputs": [
    {
     "data": {
      "text/html": [
       "<div>\n",
       "<style scoped>\n",
       "    .dataframe tbody tr th:only-of-type {\n",
       "        vertical-align: middle;\n",
       "    }\n",
       "\n",
       "    .dataframe tbody tr th {\n",
       "        vertical-align: top;\n",
       "    }\n",
       "\n",
       "    .dataframe thead th {\n",
       "        text-align: right;\n",
       "    }\n",
       "</style>\n",
       "<table border=\"1\" class=\"dataframe\">\n",
       "  <thead>\n",
       "    <tr style=\"text-align: right;\">\n",
       "      <th></th>\n",
       "      <th>Year AD</th>\n",
       "      <th>Year BS</th>\n",
       "      <th>Crop</th>\n",
       "      <th>Area</th>\n",
       "      <th>Production</th>\n",
       "      <th>Yield</th>\n",
       "    </tr>\n",
       "  </thead>\n",
       "  <tbody>\n",
       "    <tr>\n",
       "      <th>0</th>\n",
       "      <td>1984/85</td>\n",
       "      <td>2041/42</td>\n",
       "      <td>OILSEED</td>\n",
       "      <td>127820</td>\n",
       "      <td>84030</td>\n",
       "      <td>657</td>\n",
       "    </tr>\n",
       "    <tr>\n",
       "      <th>1</th>\n",
       "      <td>1985/86</td>\n",
       "      <td>2042/43</td>\n",
       "      <td>OILSEED</td>\n",
       "      <td>137920</td>\n",
       "      <td>78390</td>\n",
       "      <td>568</td>\n",
       "    </tr>\n",
       "    <tr>\n",
       "      <th>2</th>\n",
       "      <td>1986/87</td>\n",
       "      <td>2043/44</td>\n",
       "      <td>OILSEED</td>\n",
       "      <td>142890</td>\n",
       "      <td>82500</td>\n",
       "      <td>577</td>\n",
       "    </tr>\n",
       "    <tr>\n",
       "      <th>3</th>\n",
       "      <td>1987/88</td>\n",
       "      <td>2044/45</td>\n",
       "      <td>OILSEED</td>\n",
       "      <td>151490</td>\n",
       "      <td>94370</td>\n",
       "      <td>623</td>\n",
       "    </tr>\n",
       "    <tr>\n",
       "      <th>4</th>\n",
       "      <td>1988/89</td>\n",
       "      <td>2045/46</td>\n",
       "      <td>OILSEED</td>\n",
       "      <td>154860</td>\n",
       "      <td>99190</td>\n",
       "      <td>641</td>\n",
       "    </tr>\n",
       "    <tr>\n",
       "      <th>5</th>\n",
       "      <td>1989/90</td>\n",
       "      <td>2046/47</td>\n",
       "      <td>OILSEED</td>\n",
       "      <td>153660</td>\n",
       "      <td>98060</td>\n",
       "      <td>638</td>\n",
       "    </tr>\n",
       "    <tr>\n",
       "      <th>6</th>\n",
       "      <td>1990/91</td>\n",
       "      <td>2047/48</td>\n",
       "      <td>OILSEED</td>\n",
       "      <td>156310</td>\n",
       "      <td>92140</td>\n",
       "      <td>589</td>\n",
       "    </tr>\n",
       "    <tr>\n",
       "      <th>7</th>\n",
       "      <td>1991/92</td>\n",
       "      <td>2048/49</td>\n",
       "      <td>OILSEED</td>\n",
       "      <td>154570</td>\n",
       "      <td>87840</td>\n",
       "      <td>568</td>\n",
       "    </tr>\n",
       "    <tr>\n",
       "      <th>8</th>\n",
       "      <td>1992/93</td>\n",
       "      <td>2049/50</td>\n",
       "      <td>OILSEED</td>\n",
       "      <td>165240</td>\n",
       "      <td>93690</td>\n",
       "      <td>567</td>\n",
       "    </tr>\n",
       "    <tr>\n",
       "      <th>9</th>\n",
       "      <td>1993/94</td>\n",
       "      <td>2050/51</td>\n",
       "      <td>OILSEED</td>\n",
       "      <td>177486</td>\n",
       "      <td>107535</td>\n",
       "      <td>606</td>\n",
       "    </tr>\n",
       "  </tbody>\n",
       "</table>\n",
       "</div>"
      ],
      "text/plain": [
       "   Year AD  Year BS     Crop    Area  Production  Yield\n",
       "0  1984/85  2041/42  OILSEED  127820       84030    657\n",
       "1  1985/86  2042/43  OILSEED  137920       78390    568\n",
       "2  1986/87  2043/44  OILSEED  142890       82500    577\n",
       "3  1987/88  2044/45  OILSEED  151490       94370    623\n",
       "4  1988/89  2045/46  OILSEED  154860       99190    641\n",
       "5  1989/90  2046/47  OILSEED  153660       98060    638\n",
       "6  1990/91  2047/48  OILSEED  156310       92140    589\n",
       "7  1991/92  2048/49  OILSEED  154570       87840    568\n",
       "8  1992/93  2049/50  OILSEED  165240       93690    567\n",
       "9  1993/94  2050/51  OILSEED  177486      107535    606"
      ]
     },
     "execution_count": 1,
     "metadata": {},
     "output_type": "execute_result"
    }
   ],
   "source": [
    "import pandas as pd\n",
    "import numpy as np\n",
    "from matplotlib import pyplot as plt\n",
    "from matplotlib import patches as patches\n",
    "import matplotlib.lines as mlines\n",
    "from matplotlib import pyplot as plt\n",
    "from matplotlib import patches as patches\n",
    "import matplotlib.lines as mlines\n",
    "\n",
    "\n",
    "# reading data\n",
    "data = pd.read_csv(\"cash-crops-nepal.csv\")\n",
    "# visualize some data\n",
    "data.iloc[:10,:]"
   ]
  },
  {
   "cell_type": "code",
   "execution_count": 2,
   "metadata": {},
   "outputs": [
    {
     "data": {
      "text/plain": [
       "(105, 6)"
      ]
     },
     "execution_count": 2,
     "metadata": {},
     "output_type": "execute_result"
    }
   ],
   "source": [
    "data.shape"
   ]
  },
  {
   "cell_type": "code",
   "execution_count": 3,
   "metadata": {},
   "outputs": [
    {
     "name": "stdout",
     "output_type": "stream",
     "text": [
      "['OILSEED' 'POTATO' 'TOBACCO' 'SUGARCANE' 'JUTE']\n"
     ]
    }
   ],
   "source": [
    "# What are the different crops\n",
    "print(data.iloc[:,2].unique())"
   ]
  },
  {
   "cell_type": "markdown",
   "metadata": {},
   "source": [
    "We will not use \"Crop\" labels for training SOM. But we will use it to check if the clustering by SOM worked fine or not. We will also drop the “Year AD” and “Year BS” columns."
   ]
  },
  {
   "cell_type": "code",
   "execution_count": 4,
   "metadata": {},
   "outputs": [
    {
     "data": {
      "text/html": [
       "<div>\n",
       "<style scoped>\n",
       "    .dataframe tbody tr th:only-of-type {\n",
       "        vertical-align: middle;\n",
       "    }\n",
       "\n",
       "    .dataframe tbody tr th {\n",
       "        vertical-align: top;\n",
       "    }\n",
       "\n",
       "    .dataframe thead th {\n",
       "        text-align: right;\n",
       "    }\n",
       "</style>\n",
       "<table border=\"1\" class=\"dataframe\">\n",
       "  <thead>\n",
       "    <tr style=\"text-align: right;\">\n",
       "      <th></th>\n",
       "      <th>Area</th>\n",
       "      <th>Production</th>\n",
       "      <th>Yield</th>\n",
       "    </tr>\n",
       "  </thead>\n",
       "  <tbody>\n",
       "    <tr>\n",
       "      <th>58</th>\n",
       "      <td>4226</td>\n",
       "      <td>3973</td>\n",
       "      <td>940</td>\n",
       "    </tr>\n",
       "    <tr>\n",
       "      <th>42</th>\n",
       "      <td>8550</td>\n",
       "      <td>6430</td>\n",
       "      <td>752</td>\n",
       "    </tr>\n",
       "    <tr>\n",
       "      <th>84</th>\n",
       "      <td>27200</td>\n",
       "      <td>33124</td>\n",
       "      <td>1218</td>\n",
       "    </tr>\n",
       "    <tr>\n",
       "      <th>88</th>\n",
       "      <td>13554</td>\n",
       "      <td>17624</td>\n",
       "      <td>1300</td>\n",
       "    </tr>\n",
       "    <tr>\n",
       "      <th>44</th>\n",
       "      <td>8820</td>\n",
       "      <td>4890</td>\n",
       "      <td>554</td>\n",
       "    </tr>\n",
       "    <tr>\n",
       "      <th>39</th>\n",
       "      <td>140171</td>\n",
       "      <td>1531315</td>\n",
       "      <td>10925</td>\n",
       "    </tr>\n",
       "    <tr>\n",
       "      <th>52</th>\n",
       "      <td>6028</td>\n",
       "      <td>5447</td>\n",
       "      <td>904</td>\n",
       "    </tr>\n",
       "    <tr>\n",
       "      <th>92</th>\n",
       "      <td>9000</td>\n",
       "      <td>10000</td>\n",
       "      <td>1111</td>\n",
       "    </tr>\n",
       "    <tr>\n",
       "      <th>61</th>\n",
       "      <td>3398</td>\n",
       "      <td>3310</td>\n",
       "      <td>974</td>\n",
       "    </tr>\n",
       "    <tr>\n",
       "      <th>14</th>\n",
       "      <td>190429</td>\n",
       "      <td>119731</td>\n",
       "      <td>629</td>\n",
       "    </tr>\n",
       "  </tbody>\n",
       "</table>\n",
       "</div>"
      ],
      "text/plain": [
       "      Area  Production  Yield\n",
       "58    4226        3973    940\n",
       "42    8550        6430    752\n",
       "84   27200       33124   1218\n",
       "88   13554       17624   1300\n",
       "44    8820        4890    554\n",
       "39  140171     1531315  10925\n",
       "52    6028        5447    904\n",
       "92    9000       10000   1111\n",
       "61    3398        3310    974\n",
       "14  190429      119731    629"
      ]
     },
     "execution_count": 4,
     "metadata": {},
     "output_type": "execute_result"
    }
   ],
   "source": [
    "# shuffling data\n",
    "agri_data = data.iloc[np.random.permutation(len(data))]\n",
    "trunc_data = agri_data[[\"Area\", \"Production\", \"Yield\"]]\n",
    "trunc_data.iloc[:10,:]"
   ]
  },
  {
   "cell_type": "code",
   "execution_count": 5,
   "metadata": {},
   "outputs": [
    {
     "data": {
      "text/html": [
       "<div>\n",
       "<style scoped>\n",
       "    .dataframe tbody tr th:only-of-type {\n",
       "        vertical-align: middle;\n",
       "    }\n",
       "\n",
       "    .dataframe tbody tr th {\n",
       "        vertical-align: top;\n",
       "    }\n",
       "\n",
       "    .dataframe thead th {\n",
       "        text-align: right;\n",
       "    }\n",
       "</style>\n",
       "<table border=\"1\" class=\"dataframe\">\n",
       "  <thead>\n",
       "    <tr style=\"text-align: right;\">\n",
       "      <th></th>\n",
       "      <th>Area</th>\n",
       "      <th>Production</th>\n",
       "      <th>Yield</th>\n",
       "    </tr>\n",
       "  </thead>\n",
       "  <tbody>\n",
       "    <tr>\n",
       "      <th>58</th>\n",
       "      <td>0.022192</td>\n",
       "      <td>0.001672</td>\n",
       "      <td>0.023373</td>\n",
       "    </tr>\n",
       "    <tr>\n",
       "      <th>42</th>\n",
       "      <td>0.044899</td>\n",
       "      <td>0.002706</td>\n",
       "      <td>0.018699</td>\n",
       "    </tr>\n",
       "    <tr>\n",
       "      <th>84</th>\n",
       "      <td>0.142835</td>\n",
       "      <td>0.013940</td>\n",
       "      <td>0.030286</td>\n",
       "    </tr>\n",
       "    <tr>\n",
       "      <th>88</th>\n",
       "      <td>0.071176</td>\n",
       "      <td>0.007417</td>\n",
       "      <td>0.032325</td>\n",
       "    </tr>\n",
       "    <tr>\n",
       "      <th>44</th>\n",
       "      <td>0.046316</td>\n",
       "      <td>0.002058</td>\n",
       "      <td>0.013775</td>\n",
       "    </tr>\n",
       "    <tr>\n",
       "      <th>39</th>\n",
       "      <td>0.736080</td>\n",
       "      <td>0.644465</td>\n",
       "      <td>0.271651</td>\n",
       "    </tr>\n",
       "    <tr>\n",
       "      <th>52</th>\n",
       "      <td>0.031655</td>\n",
       "      <td>0.002292</td>\n",
       "      <td>0.022478</td>\n",
       "    </tr>\n",
       "    <tr>\n",
       "      <th>92</th>\n",
       "      <td>0.047262</td>\n",
       "      <td>0.004209</td>\n",
       "      <td>0.027625</td>\n",
       "    </tr>\n",
       "    <tr>\n",
       "      <th>61</th>\n",
       "      <td>0.017844</td>\n",
       "      <td>0.001393</td>\n",
       "      <td>0.024219</td>\n",
       "    </tr>\n",
       "    <tr>\n",
       "      <th>14</th>\n",
       "      <td>1.000000</td>\n",
       "      <td>0.050390</td>\n",
       "      <td>0.015640</td>\n",
       "    </tr>\n",
       "  </tbody>\n",
       "</table>\n",
       "</div>"
      ],
      "text/plain": [
       "        Area  Production     Yield\n",
       "58  0.022192    0.001672  0.023373\n",
       "42  0.044899    0.002706  0.018699\n",
       "84  0.142835    0.013940  0.030286\n",
       "88  0.071176    0.007417  0.032325\n",
       "44  0.046316    0.002058  0.013775\n",
       "39  0.736080    0.644465  0.271651\n",
       "52  0.031655    0.002292  0.022478\n",
       "92  0.047262    0.004209  0.027625\n",
       "61  0.017844    0.001393  0.024219\n",
       "14  1.000000    0.050390  0.015640"
      ]
     },
     "execution_count": 5,
     "metadata": {},
     "output_type": "execute_result"
    }
   ],
   "source": [
    "# (custom choice for) normalizing data\n",
    "trunc_data = trunc_data / trunc_data.max()\n",
    "trunc_data.iloc[:10,:]"
   ]
  },
  {
   "cell_type": "markdown",
   "metadata": {},
   "source": [
    "## Training SOM"
   ]
  },
  {
   "cell_type": "markdown",
   "metadata": {},
   "source": [
    "Now let’s train the data in a 3 x 3 SOM network using 3 input features. "
   ]
  },
  {
   "cell_type": "code",
   "execution_count": 6,
   "metadata": {},
   "outputs": [
    {
     "data": {
      "image/png": "[encoded data removed]",
      "text/plain": [
       "<Figure size 432x288 with 1 Axes>"
      ]
     },
     "metadata": {
      "needs_background": "light"
     },
     "output_type": "display_data"
    }
   ],
   "source": [
    "from our_som1A import SOM\n",
    "\n",
    "# som = SOM(x_size, y_size, num_features)\n",
    "agri_som = SOM(3,3,3)\n",
    "\n",
    "# Initial weights\n",
    "init_fig = plt.figure()\n",
    "agri_som.show_plot(init_fig, 1, 0)\n",
    "plt.show()"
   ]
  },
  {
   "cell_type": "markdown",
   "metadata": {},
   "source": [
    "Random weights (3 features) are given to each of 9 (3×3) neurons. The above figure shows how the neural network looks like in the beginning."
   ]
  },
  {
   "cell_type": "markdown",
   "metadata": {},
   "source": [
    "Notice: \n",
    "\n",
    "- after 60 Epochs, the network changed from random colors (initialization) to nearly constant color; this means that initial neighbourhood is large, so each neuron’s weight are being adjusted according to data.\n",
    "\n",
    "- Slowly, the network develops different color according to input data structures/patterns, but, you can notice similar colors are neighbors to one another.\n",
    "\n",
    "- Since there was a random initialization, the positions of colors may change but the topology will be preserved."
   ]
  },
  {
   "cell_type": "markdown",
   "metadata": {},
   "source": [
    "## Prediction and Analysis"
   ]
  },
  {
   "cell_type": "code",
   "execution_count": 7,
   "metadata": {},
   "outputs": [],
   "source": [
    "def predict(df, agri_som):\n",
    "    bmu, bmu_idx = agri_som.find_bmu(df.values)\n",
    "    df['bmu'] = bmu\n",
    "    df['bmu_idx'] = bmu_idx\n",
    "    return df\n"
   ]
  },
  {
   "cell_type": "code",
   "execution_count": 8,
   "metadata": {
    "collapsed": false,
    "pycharm": {
     "name": "#%%\n"
    }
   },
   "outputs": [],
   "source": [
    "def arrange_data(agri_som):\n",
    "    clustered_df = trunc_data.apply(predict, axis=1, agri_som=agri_som)\n",
    "    joined_df = agri_data.join(clustered_df, rsuffix=\"_norm\")\n",
    "    return joined_df"
   ]
  },
  {
   "cell_type": "code",
   "execution_count": 9,
   "metadata": {},
   "outputs": [],
   "source": [
    "def external_purity(df):\n",
    "    \"\"\"Purity measures the purity of clusters with respect to ground-truth class labels. To compute the purity of a clustering Q, \n",
    "    each cluster is assigned to the class which is most frequent in the cluster, and then the accuracy of this assignment is measured \n",
    "    by counting the number of correctly assigned points and dividing by the total number of points:\n",
    "\n",
    "    Prospers Comment:\n",
    "        with this implementation, the computation of the total_correct includes classes located in multiple clusters. \n",
    "        For instance, if POTATO is located in [0,0] with count of 20, and also located in [2,2] with count of 40, both instances are \n",
    "        included in the computation of the total_correct. But with the definition, POTATO will be assigned to the cluster [2,2] and \n",
    "        not [0,0] also, so computation will include only 40 for 'POTATO'. Kindly verify that.\n",
    "        For this reason, I implemented a proposed edition tagged 'prospers_purity' correcting this error.\n",
    "\n",
    "    Args:\n",
    "        df (pd.DataFrame): joined training set with bmu positions and weights\n",
    "    \"\"\"\n",
    "    classes = [str(i) for i in df.bmu_idx.tolist()]  # all neurons/clusters responsible each data point\n",
    "    classes_uniq = set(classes)  # unique neurons (<= 9 since 3*3 grid. less if some neuron(s) dont have any samples)\n",
    "    clusters = {i:{} for i in classes_uniq}  # build associative array to hold all samples for each neuron.\n",
    "\n",
    "    data = [[str(i),j] for i,j in zip(df.bmu_idx.tolist(), df.Crop)]\n",
    "    for i in classes_uniq:\n",
    "        for j in data:\n",
    "            exact= j[0]\n",
    "            pred = j[1]\n",
    "            if exact == i:\n",
    "                if pred not in clusters[exact].keys():\n",
    "                    clusters[exact][pred] = 1\n",
    "                else:\n",
    "                    clusters[exact][pred] += 1\n",
    "    total_correct = 0\n",
    "    total = len(data)\n",
    "    for cluster in clusters.values():\n",
    "        total_correct += max(cluster.values())\n",
    "    \n",
    "    return total_correct/total\n",
    "\n",
    "\n",
    "def prospers_purity(df):\n",
    "    \"\"\"Implemented to correct the over summand error in the above implementation\n",
    "    \"\"\"\n",
    "    # proper representation of column\n",
    "    df['bmu_idx'] = df['bmu_idx'].apply(lambda k: str(k))\n",
    "    df['bmu'] = df['bmu'].apply(lambda k: k[0])\n",
    "\n",
    "    # fetch number of different samples associated to each cluster.\n",
    "    clusters = df.value_counts(subset=['Crop', 'bmu_idx']).reset_index() \n",
    "    clusters.rename(columns={0:'count'}, inplace=True)\n",
    "\n",
    "    total = np.sum(clusters['count'])  # compute total number of points\n",
    "\n",
    "    # assign class which is most frequent in the cluster. highest count of that specific crop type in cluster\n",
    "    cluster_dominated = clusters.groupby(by=['Crop']).max().reset_index()\n",
    "    total_correct = np.sum(cluster_dominated['count'])  # compute total number of correctly clustered\n",
    "    \n",
    "    return total_correct/total\n",
    "\n",
    "    \n",
    "\n",
    "def cluster_accuracy(df):\n",
    "    \"\"\"\n",
    "    The cluster accuracy as specified in the reference is the number of samples assigned to the correct class divided by the total \n",
    "    number of samples. It can also be used in clustering as an external quality measure if labels are available and if \n",
    "    the number of clusters is equal to the number of classes (which is not our case, yet, I tried implementing). ...\n",
    "\n",
    "    Comments:\n",
    "        The cluster matrix was sparse leading to obtaining non-optimal result using the hungarian method which sought to \n",
    "        minimize the sum function. You can verify that with the below implementation.\n",
    "    \"\"\"\n",
    "    from scipy.optimize import linear_sum_assignment  # for hungarian optimization\n",
    "\n",
    "    # representing df in a proper format\n",
    "    df['bmu_idx'] = df['bmu_idx'].apply(lambda k: str(k))\n",
    "    df['bmu'] = df['bmu_idx'].apply(lambda k: k[0])\n",
    "\n",
    "    # fetch classes and unique classes\n",
    "    unique_classes = df['bmu_idx'].apply(lambda k: str(k)).unique()\n",
    "    classes = df['bmu'].apply(lambda k: str(k[0])).unique()\n",
    "\n",
    "    # compute the cluster matrix to minimize sum\n",
    "    cost = df.pivot_table(index='Crop', columns='bmu_idx', values='Area', aggfunc='count', fill_value=0)\n",
    "\n",
    "    row_ind, col_ind = linear_sum_assignment(cost)  # optimal locations\n",
    "\n",
    "    cost.values[row_ind, col_ind].sum()  # optimal locations result to 0 sum."
   ]
  },
  {
   "cell_type": "code",
   "execution_count": 10,
   "metadata": {
    "collapsed": false,
    "pycharm": {
     "name": "#%%\n"
    }
   },
   "outputs": [],
   "source": [
    "def visualize(joined_df, lr, lf,agri_som):\n",
    "    fig = plt.figure()\n",
    "    # setup axes\n",
    "    ax = fig.add_subplot(111)\n",
    "    scale = 50\n",
    "    ax.set_xlim((0, agri_som.net.shape[0]*scale))\n",
    "    ax.set_ylim((0, agri_som.net.shape[1]*scale))\n",
    "    ax.set_title(\"learning function: \"+lf+\", learning rate: \"+str(lr))\n",
    "\n",
    "    for x in range(0, agri_som.net.shape[0]):\n",
    "        for y in range(0, agri_som.net.shape[1]):\n",
    "            ax.add_patch(patches.Rectangle((x*scale, y*scale), scale, scale,\n",
    "                         facecolor='white',\n",
    "                         edgecolor='grey'))\n",
    "    legend_map = {}\n",
    "\n",
    "    for index, row in joined_df.iterrows():\n",
    "        x_cor = row['bmu_idx'][0] * scale\n",
    "        y_cor = row['bmu_idx'][1] * scale\n",
    "        x_cor = np.random.randint(x_cor, x_cor + scale)\n",
    "        y_cor = np.random.randint(y_cor, y_cor + scale)\n",
    "        color = row['bmu'][0]\n",
    "        marker = \"$\\\\ \" + row['Crop'][0]+\"$\"\n",
    "        marker = marker.lower()\n",
    "        ax.plot(x_cor, y_cor, color=color, marker=marker, markersize=10)\n",
    "        label = row['Crop']\n",
    "        if not label in legend_map:\n",
    "            legend_map[label] =  mlines.Line2D([], [], color='black', marker=marker, linestyle='None',\n",
    "                              markersize=10, label=label)\n",
    "    plt.legend(handles=list(legend_map.values()), bbox_to_anchor=(1, 1))\n",
    "    plt.show()"
   ]
  },
  {
   "cell_type": "code",
   "execution_count": 11,
   "metadata": {
    "collapsed": false,
    "pycharm": {
     "name": "#%%\n"
    }
   },
   "outputs": [],
   "source": [
    "external_purities = []\n",
    "prospers_purities = []\n",
    "\n",
    "def run(lr, lf):\n",
    "    \"\"\"wrapper function. implements the SOM with the given parameters\n",
    "\n",
    "    Args:\n",
    "        lr (float): learning rate to perform the SOM algorithm with.\n",
    "        lf (string): one of the 4 implemented functions. [default (gaussian), linear, inverse, power (exponential)]\n",
    "    \"\"\"\n",
    "    agri_som = SOM(3,3,3)  # initialization\n",
    "    agri_som.train(trunc_data.values,\n",
    "          num_epochs=100,\n",
    "          init_learning_rate=lr,\n",
    "          learning_rate_funtion=lf\n",
    "          )\n",
    "    joined_df = arrange_data(agri_som)\n",
    "    # visualize(joined_df, lr, lf, agri_som)\n",
    "    external_purities.append(external_purity(joined_df))\n",
    "    prospers_purities.append(prospers_purity(joined_df))"
   ]
  },
  {
   "cell_type": "code",
   "execution_count": 24,
   "metadata": {},
   "outputs": [
    {
     "data": {
      "text/plain": [
       "<Figure size 432x288 with 0 Axes>"
      ]
     },
     "metadata": {},
     "output_type": "display_data"
    },
    {
     "data": {
      "text/plain": [
       "<Figure size 432x288 with 0 Axes>"
      ]
     },
     "metadata": {},
     "output_type": "display_data"
    },
    {
     "data": {
      "text/plain": [
       "<Figure size 432x288 with 0 Axes>"
      ]
     },
     "metadata": {},
     "output_type": "display_data"
    },
    {
     "data": {
      "text/plain": [
       "<Figure size 432x288 with 0 Axes>"
      ]
     },
     "metadata": {},
     "output_type": "display_data"
    },
    {
     "data": {
      "text/plain": [
       "<Figure size 432x288 with 0 Axes>"
      ]
     },
     "metadata": {},
     "output_type": "display_data"
    },
    {
     "data": {
      "text/plain": [
       "<Figure size 432x288 with 0 Axes>"
      ]
     },
     "metadata": {},
     "output_type": "display_data"
    },
    {
     "data": {
      "text/plain": [
       "<Figure size 432x288 with 0 Axes>"
      ]
     },
     "metadata": {},
     "output_type": "display_data"
    },
    {
     "data": {
      "text/plain": [
       "<Figure size 432x288 with 0 Axes>"
      ]
     },
     "metadata": {},
     "output_type": "display_data"
    },
    {
     "data": {
      "text/plain": [
       "<Figure size 432x288 with 0 Axes>"
      ]
     },
     "metadata": {},
     "output_type": "display_data"
    },
    {
     "data": {
      "text/plain": [
       "<Figure size 432x288 with 0 Axes>"
      ]
     },
     "metadata": {},
     "output_type": "display_data"
    },
    {
     "data": {
      "text/plain": [
       "<Figure size 432x288 with 0 Axes>"
      ]
     },
     "metadata": {},
     "output_type": "display_data"
    },
    {
     "data": {
      "text/plain": [
       "<Figure size 432x288 with 0 Axes>"
      ]
     },
     "metadata": {},
     "output_type": "display_data"
    },
    {
     "data": {
      "text/plain": [
       "<Figure size 432x288 with 0 Axes>"
      ]
     },
     "metadata": {},
     "output_type": "display_data"
    },
    {
     "data": {
      "text/plain": [
       "<Figure size 432x288 with 0 Axes>"
      ]
     },
     "metadata": {},
     "output_type": "display_data"
    },
    {
     "data": {
      "text/plain": [
       "<Figure size 432x288 with 0 Axes>"
      ]
     },
     "metadata": {},
     "output_type": "display_data"
    },
    {
     "data": {
      "text/plain": [
       "<Figure size 432x288 with 0 Axes>"
      ]
     },
     "metadata": {},
     "output_type": "display_data"
    }
   ],
   "source": [
    "lrs = [1, 0.1, 0.01, 0.001]\n",
    "lfs = [\"default\", \"linear\", \"inverse\", \"power\"]\n",
    "\n",
    "# build a dense combination of lrs and lfs\n",
    "mesh = np.array(np.meshgrid(lrs, lfs))\n",
    "lrs_lfs = mesh.T.reshape(-1, 2)\n",
    "\n",
    "for lr, lf in lrs_lfs:\n",
    "    lr = lr.astype('float64')\n",
    "    run(lr=lr, lf=lf)"
   ]
  },
  {
   "cell_type": "code",
   "execution_count": 25,
   "metadata": {},
   "outputs": [
    {
     "name": "stdout",
     "output_type": "stream",
     "text": [
      "Requirement already satisfied: tabulate in c:\\users\\icetee\\miniconda3\\envs\\py38\\lib\\site-packages (0.8.9)\n"
     ]
    }
   ],
   "source": [
    "!pip install tabulate\n",
    "from tabulate import tabulate"
   ]
  },
  {
   "cell_type": "code",
   "execution_count": 35,
   "metadata": {},
   "outputs": [
    {
     "name": "stdout",
     "output_type": "stream",
     "text": [
      "+-------+---------+--------------------+--------------------+\n",
      "|  lr   |   lf    |  external_purity   | prospers_accuracy  |\n",
      "+-------+---------+--------------------+--------------------+\n",
      "|  1.0  | default |        0.8         | 0.8666666666666667 |\n",
      "|  1.0  | linear  |        0.8         | 0.8571428571428571 |\n",
      "|  1.0  | inverse | 0.7904761904761904 | 0.780952380952381  |\n",
      "|  1.0  |  power  |        0.8         | 0.8571428571428571 |\n",
      "|  0.1  | default |        0.8         | 0.8571428571428571 |\n",
      "|  0.1  | linear  |        0.8         | 0.8571428571428571 |\n",
      "|  0.1  | inverse |        0.8         | 0.8571428571428571 |\n",
      "|  0.1  |  power  | 0.8095238095238095 | 0.9047619047619048 |\n",
      "| 0.01  | default | 0.8095238095238095 | 0.8666666666666667 |\n",
      "| 0.01  | linear  | 0.6952380952380952 | 0.8666666666666667 |\n",
      "| 0.01  | inverse |        0.8         | 0.7714285714285715 |\n",
      "| 0.01  |  power  | 0.6761904761904762 | 0.8095238095238095 |\n",
      "| 0.001 | default |        0.8         | 0.8380952380952381 |\n",
      "| 0.001 | linear  | 0.5714285714285714 | 0.8285714285714286 |\n",
      "| 0.001 | inverse |        0.8         | 0.780952380952381  |\n",
      "| 0.001 |  power  | 0.6285714285714286 | 0.8666666666666667 |\n",
      "+-------+---------+--------------------+--------------------+\n"
     ]
    }
   ],
   "source": [
    "table = []  # initialize table\n",
    "\n",
    "# building table\n",
    "for pos in range(len(lrs_lfs)):\n",
    "\ttable.append([lrs_lfs[pos][0], lrs_lfs[pos][1], external_purities[pos], prospers_purities[pos]])\n",
    "\n",
    "headers = [\"lr\", \"lf\", 'external_purity', 'prospers_accuracy']\n",
    "print(tabulate(table, headers, tablefmt=\"pretty\"))"
   ]
  },
  {
   "cell_type": "code",
   "execution_count": null,
   "metadata": {},
   "outputs": [],
   "source": []
  }
 ],
 "metadata": {
  "kernelspec": {
   "display_name": "Python 3.8.2 64-bit",
   "metadata": {
    "interpreter": {
     "hash": "31f2aee4e71d21fbe5cf8b01ff0e069b9275f58929596ceb00d14d90e3e16cd6"
    }
   },
   "name": "python3"
  },
  "language_info": {
   "codemirror_mode": {
    "name": "ipython",
    "version": 3
   },
   "file_extension": ".py",
   "mimetype": "text/x-python",
   "name": "python",
   "nbconvert_exporter": "python",
   "pygments_lexer": "ipython3",
   "version": "3.8.12"
  }
 },
 "nbformat": 4,
 "nbformat_minor": 2
}
