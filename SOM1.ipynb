{
 "cells": [
  {
   "cell_type": "markdown",
   "metadata": {},
   "source": [
    "# Self-Organising Maps"
   ]
  },
  {
   "cell_type": "code",
   "execution_count": 50,
   "metadata": {},
   "outputs": [
    {
     "data": {
      "text/html": [
       "<div>\n",
       "<style scoped>\n",
       "    .dataframe tbody tr th:only-of-type {\n",
       "        vertical-align: middle;\n",
       "    }\n",
       "\n",
       "    .dataframe tbody tr th {\n",
       "        vertical-align: top;\n",
       "    }\n",
       "\n",
       "    .dataframe thead th {\n",
       "        text-align: right;\n",
       "    }\n",
       "</style>\n",
       "<table border=\"1\" class=\"dataframe\">\n",
       "  <thead>\n",
       "    <tr style=\"text-align: right;\">\n",
       "      <th></th>\n",
       "      <th>Year AD</th>\n",
       "      <th>Year BS</th>\n",
       "      <th>Crop</th>\n",
       "      <th>Area</th>\n",
       "      <th>Production</th>\n",
       "      <th>Yield</th>\n",
       "    </tr>\n",
       "  </thead>\n",
       "  <tbody>\n",
       "    <tr>\n",
       "      <th>0</th>\n",
       "      <td>1984/85</td>\n",
       "      <td>2041/42</td>\n",
       "      <td>OILSEED</td>\n",
       "      <td>127820</td>\n",
       "      <td>84030</td>\n",
       "      <td>657</td>\n",
       "    </tr>\n",
       "    <tr>\n",
       "      <th>1</th>\n",
       "      <td>1985/86</td>\n",
       "      <td>2042/43</td>\n",
       "      <td>OILSEED</td>\n",
       "      <td>137920</td>\n",
       "      <td>78390</td>\n",
       "      <td>568</td>\n",
       "    </tr>\n",
       "    <tr>\n",
       "      <th>2</th>\n",
       "      <td>1986/87</td>\n",
       "      <td>2043/44</td>\n",
       "      <td>OILSEED</td>\n",
       "      <td>142890</td>\n",
       "      <td>82500</td>\n",
       "      <td>577</td>\n",
       "    </tr>\n",
       "    <tr>\n",
       "      <th>3</th>\n",
       "      <td>1987/88</td>\n",
       "      <td>2044/45</td>\n",
       "      <td>OILSEED</td>\n",
       "      <td>151490</td>\n",
       "      <td>94370</td>\n",
       "      <td>623</td>\n",
       "    </tr>\n",
       "    <tr>\n",
       "      <th>4</th>\n",
       "      <td>1988/89</td>\n",
       "      <td>2045/46</td>\n",
       "      <td>OILSEED</td>\n",
       "      <td>154860</td>\n",
       "      <td>99190</td>\n",
       "      <td>641</td>\n",
       "    </tr>\n",
       "    <tr>\n",
       "      <th>5</th>\n",
       "      <td>1989/90</td>\n",
       "      <td>2046/47</td>\n",
       "      <td>OILSEED</td>\n",
       "      <td>153660</td>\n",
       "      <td>98060</td>\n",
       "      <td>638</td>\n",
       "    </tr>\n",
       "    <tr>\n",
       "      <th>6</th>\n",
       "      <td>1990/91</td>\n",
       "      <td>2047/48</td>\n",
       "      <td>OILSEED</td>\n",
       "      <td>156310</td>\n",
       "      <td>92140</td>\n",
       "      <td>589</td>\n",
       "    </tr>\n",
       "    <tr>\n",
       "      <th>7</th>\n",
       "      <td>1991/92</td>\n",
       "      <td>2048/49</td>\n",
       "      <td>OILSEED</td>\n",
       "      <td>154570</td>\n",
       "      <td>87840</td>\n",
       "      <td>568</td>\n",
       "    </tr>\n",
       "    <tr>\n",
       "      <th>8</th>\n",
       "      <td>1992/93</td>\n",
       "      <td>2049/50</td>\n",
       "      <td>OILSEED</td>\n",
       "      <td>165240</td>\n",
       "      <td>93690</td>\n",
       "      <td>567</td>\n",
       "    </tr>\n",
       "    <tr>\n",
       "      <th>9</th>\n",
       "      <td>1993/94</td>\n",
       "      <td>2050/51</td>\n",
       "      <td>OILSEED</td>\n",
       "      <td>177486</td>\n",
       "      <td>107535</td>\n",
       "      <td>606</td>\n",
       "    </tr>\n",
       "  </tbody>\n",
       "</table>\n",
       "</div>"
      ],
      "text/plain": [
       "   Year AD  Year BS     Crop    Area  Production  Yield\n",
       "0  1984/85  2041/42  OILSEED  127820       84030    657\n",
       "1  1985/86  2042/43  OILSEED  137920       78390    568\n",
       "2  1986/87  2043/44  OILSEED  142890       82500    577\n",
       "3  1987/88  2044/45  OILSEED  151490       94370    623\n",
       "4  1988/89  2045/46  OILSEED  154860       99190    641\n",
       "5  1989/90  2046/47  OILSEED  153660       98060    638\n",
       "6  1990/91  2047/48  OILSEED  156310       92140    589\n",
       "7  1991/92  2048/49  OILSEED  154570       87840    568\n",
       "8  1992/93  2049/50  OILSEED  165240       93690    567\n",
       "9  1993/94  2050/51  OILSEED  177486      107535    606"
      ]
     },
     "execution_count": 50,
     "metadata": {},
     "output_type": "execute_result"
    }
   ],
   "source": [
    "import pandas as pd\n",
    "import numpy as np\n",
    "from matplotlib import pyplot as plt\n",
    "from matplotlib import patches as patches\n",
    "import matplotlib.lines as mlines\n",
    "\n",
    "# reading data\n",
    "data = pd.read_csv(\"cash-crops-nepal.csv\")\n",
    "# visualize some data\n",
    "data.iloc[:10,:]"
   ]
  },
  {
   "cell_type": "code",
   "execution_count": 51,
   "metadata": {},
   "outputs": [
    {
     "data": {
      "text/plain": [
       "(105, 6)"
      ]
     },
     "execution_count": 51,
     "metadata": {},
     "output_type": "execute_result"
    }
   ],
   "source": [
    "data.shape"
   ]
  },
  {
   "cell_type": "code",
   "execution_count": 52,
   "metadata": {},
   "outputs": [
    {
     "name": "stdout",
     "output_type": "stream",
     "text": [
      "['OILSEED' 'POTATO' 'TOBACCO' 'SUGARCANE' 'JUTE']\n"
     ]
    }
   ],
   "source": [
    "# What are the different crops\n",
    "print(data.iloc[:,2].unique())"
   ]
  },
  {
   "cell_type": "markdown",
   "metadata": {},
   "source": [
    "We will not use \"Crop\" labels for training SOM. But we will use it to check if the clustering by SOM worked fine or not. We will also drop the “Year AD” and “Year BS” columns."
   ]
  },
  {
   "cell_type": "code",
   "execution_count": 53,
   "metadata": {},
   "outputs": [
    {
     "data": {
      "text/html": [
       "<div>\n",
       "<style scoped>\n",
       "    .dataframe tbody tr th:only-of-type {\n",
       "        vertical-align: middle;\n",
       "    }\n",
       "\n",
       "    .dataframe tbody tr th {\n",
       "        vertical-align: top;\n",
       "    }\n",
       "\n",
       "    .dataframe thead th {\n",
       "        text-align: right;\n",
       "    }\n",
       "</style>\n",
       "<table border=\"1\" class=\"dataframe\">\n",
       "  <thead>\n",
       "    <tr style=\"text-align: right;\">\n",
       "      <th></th>\n",
       "      <th>Area</th>\n",
       "      <th>Production</th>\n",
       "      <th>Yield</th>\n",
       "    </tr>\n",
       "  </thead>\n",
       "  <tbody>\n",
       "    <tr>\n",
       "      <th>35</th>\n",
       "      <td>118043</td>\n",
       "      <td>1091218</td>\n",
       "      <td>9244</td>\n",
       "    </tr>\n",
       "    <tr>\n",
       "      <th>40</th>\n",
       "      <td>143027</td>\n",
       "      <td>1643357</td>\n",
       "      <td>11490</td>\n",
       "    </tr>\n",
       "    <tr>\n",
       "      <th>96</th>\n",
       "      <td>11000</td>\n",
       "      <td>14000</td>\n",
       "      <td>1273</td>\n",
       "    </tr>\n",
       "    <tr>\n",
       "      <th>22</th>\n",
       "      <td>69960</td>\n",
       "      <td>356720</td>\n",
       "      <td>5099</td>\n",
       "    </tr>\n",
       "    <tr>\n",
       "      <th>68</th>\n",
       "      <td>31500</td>\n",
       "      <td>988300</td>\n",
       "      <td>31375</td>\n",
       "    </tr>\n",
       "    <tr>\n",
       "      <th>27</th>\n",
       "      <td>84280</td>\n",
       "      <td>738030</td>\n",
       "      <td>8757</td>\n",
       "    </tr>\n",
       "    <tr>\n",
       "      <th>77</th>\n",
       "      <td>53894</td>\n",
       "      <td>1971646</td>\n",
       "      <td>36584</td>\n",
       "    </tr>\n",
       "    <tr>\n",
       "      <th>6</th>\n",
       "      <td>156310</td>\n",
       "      <td>92140</td>\n",
       "      <td>589</td>\n",
       "    </tr>\n",
       "    <tr>\n",
       "      <th>63</th>\n",
       "      <td>17480</td>\n",
       "      <td>17480</td>\n",
       "      <td>17480</td>\n",
       "    </tr>\n",
       "    <tr>\n",
       "      <th>46</th>\n",
       "      <td>7300</td>\n",
       "      <td>5380</td>\n",
       "      <td>737</td>\n",
       "    </tr>\n",
       "  </tbody>\n",
       "</table>\n",
       "</div>"
      ],
      "text/plain": [
       "      Area  Production  Yield\n",
       "35  118043     1091218   9244\n",
       "40  143027     1643357  11490\n",
       "96   11000       14000   1273\n",
       "22   69960      356720   5099\n",
       "68   31500      988300  31375\n",
       "27   84280      738030   8757\n",
       "77   53894     1971646  36584\n",
       "6   156310       92140    589\n",
       "63   17480       17480  17480\n",
       "46    7300        5380    737"
      ]
     },
     "execution_count": 53,
     "metadata": {},
     "output_type": "execute_result"
    }
   ],
   "source": [
    "# shuffling data\n",
    "agri_data = data.iloc[np.random.permutation(len(data))]\n",
    "trunc_data = agri_data[[\"Area\", \"Production\", \"Yield\"]]\n",
    "trunc_data.iloc[:10,:]"
   ]
  },
  {
   "cell_type": "code",
   "execution_count": 54,
   "metadata": {},
   "outputs": [
    {
     "data": {
      "text/html": [
       "<div>\n",
       "<style scoped>\n",
       "    .dataframe tbody tr th:only-of-type {\n",
       "        vertical-align: middle;\n",
       "    }\n",
       "\n",
       "    .dataframe tbody tr th {\n",
       "        vertical-align: top;\n",
       "    }\n",
       "\n",
       "    .dataframe thead th {\n",
       "        text-align: right;\n",
       "    }\n",
       "</style>\n",
       "<table border=\"1\" class=\"dataframe\">\n",
       "  <thead>\n",
       "    <tr style=\"text-align: right;\">\n",
       "      <th></th>\n",
       "      <th>Area</th>\n",
       "      <th>Production</th>\n",
       "      <th>Yield</th>\n",
       "    </tr>\n",
       "  </thead>\n",
       "  <tbody>\n",
       "    <tr>\n",
       "      <th>35</th>\n",
       "      <td>0.619879</td>\n",
       "      <td>0.459247</td>\n",
       "      <td>0.229853</td>\n",
       "    </tr>\n",
       "    <tr>\n",
       "      <th>40</th>\n",
       "      <td>0.751078</td>\n",
       "      <td>0.691619</td>\n",
       "      <td>0.285700</td>\n",
       "    </tr>\n",
       "    <tr>\n",
       "      <th>96</th>\n",
       "      <td>0.057764</td>\n",
       "      <td>0.005892</td>\n",
       "      <td>0.031653</td>\n",
       "    </tr>\n",
       "    <tr>\n",
       "      <th>22</th>\n",
       "      <td>0.367381</td>\n",
       "      <td>0.150128</td>\n",
       "      <td>0.126787</td>\n",
       "    </tr>\n",
       "    <tr>\n",
       "      <th>68</th>\n",
       "      <td>0.165416</td>\n",
       "      <td>0.415933</td>\n",
       "      <td>0.780143</td>\n",
       "    </tr>\n",
       "    <tr>\n",
       "      <th>27</th>\n",
       "      <td>0.442580</td>\n",
       "      <td>0.310605</td>\n",
       "      <td>0.217744</td>\n",
       "    </tr>\n",
       "    <tr>\n",
       "      <th>77</th>\n",
       "      <td>0.283014</td>\n",
       "      <td>0.829781</td>\n",
       "      <td>0.909665</td>\n",
       "    </tr>\n",
       "    <tr>\n",
       "      <th>6</th>\n",
       "      <td>0.820831</td>\n",
       "      <td>0.038778</td>\n",
       "      <td>0.014646</td>\n",
       "    </tr>\n",
       "    <tr>\n",
       "      <th>63</th>\n",
       "      <td>0.091793</td>\n",
       "      <td>0.007357</td>\n",
       "      <td>0.434642</td>\n",
       "    </tr>\n",
       "    <tr>\n",
       "      <th>46</th>\n",
       "      <td>0.038334</td>\n",
       "      <td>0.002264</td>\n",
       "      <td>0.018326</td>\n",
       "    </tr>\n",
       "  </tbody>\n",
       "</table>\n",
       "</div>"
      ],
      "text/plain": [
       "        Area  Production     Yield\n",
       "35  0.619879    0.459247  0.229853\n",
       "40  0.751078    0.691619  0.285700\n",
       "96  0.057764    0.005892  0.031653\n",
       "22  0.367381    0.150128  0.126787\n",
       "68  0.165416    0.415933  0.780143\n",
       "27  0.442580    0.310605  0.217744\n",
       "77  0.283014    0.829781  0.909665\n",
       "6   0.820831    0.038778  0.014646\n",
       "63  0.091793    0.007357  0.434642\n",
       "46  0.038334    0.002264  0.018326"
      ]
     },
     "execution_count": 54,
     "metadata": {},
     "output_type": "execute_result"
    }
   ],
   "source": [
    "# (custom choice for) normalizing data\n",
    "trunc_data = trunc_data / trunc_data.max()\n",
    "trunc_data.iloc[:10,:]"
   ]
  },
  {
   "cell_type": "markdown",
   "metadata": {},
   "source": [
    "## Training SOM"
   ]
  },
  {
   "cell_type": "markdown",
   "metadata": {},
   "source": [
    "Now let’s train the data in a 3 x 3 SOM network using 3 input features. "
   ]
  },
  {
   "cell_type": "code",
   "execution_count": 55,
   "metadata": {},
   "outputs": [
    {
     "data": {
      "image/png": "[encoded data removed]",
      "text/plain": [
       "<Figure size 432x288 with 1 Axes>"
      ]
     },
     "metadata": {
      "needs_background": "light"
     },
     "output_type": "display_data"
    }
   ],
   "source": [
    "from our_som1 import SOM\n",
    "\n",
    "# som = SOM(x_size, y_size, num_features)\n",
    "agri_som = SOM(3,3,3)\n",
    "\n",
    "# Initial weights\n",
    "init_fig = plt.figure()\n",
    "agri_som.show_plot(init_fig, 1, 0)\n",
    "plt.show()"
   ]
  },
  {
   "cell_type": "markdown",
   "metadata": {},
   "source": [
    "Random weights (3 features) are given to each of 9 (3×3) neurons. The above figure shows how the neural network looks like in the beginning."
   ]
  },
  {
   "cell_type": "code",
   "execution_count": 56,
   "metadata": {},
   "outputs": [
    {
     "name": "stderr",
     "output_type": "stream",
     "text": [
      "c:\\Users\\iCETEE\\Documents\\GitHub\\TMBD-Project-3\\our_som1.py:151: MatplotlibDeprecationWarning: Passing non-integers as three-element position specification is deprecated since 3.3 and will be removed two minor releases later.\n",
      "  ax = fig.add_subplot(2, 5, position, aspect=\"equal\")\n"
     ]
    },
    {
     "name": "stdout",
     "output_type": "stream",
     "text": [
      "SOM training epoches 20\n",
      "neighborhood radius  2.6878753795222865\n",
      "learning rate  0.009048374180359595\n",
      "-------------------------------------\n",
      "SOM training epoches 40\n",
      "neighborhood radius  2.4082246852806923\n",
      "learning rate  0.008187307530779819\n",
      "-------------------------------------\n",
      "SOM training epoches 60\n",
      "neighborhood radius  2.157669279974593\n",
      "learning rate  0.007408182206817179\n",
      "-------------------------------------\n",
      "SOM training epoches 80\n",
      "neighborhood radius  1.9331820449317627\n",
      "learning rate  0.006703200460356393\n",
      "-------------------------------------\n",
      "SOM training epoches 100\n",
      "neighborhood radius  1.7320508075688772\n",
      "learning rate  0.006065306597126334\n",
      "-------------------------------------\n",
      "SOM training epoches 120\n",
      "neighborhood radius  1.5518455739153598\n",
      "learning rate  0.005488116360940265\n",
      "-------------------------------------\n"
     ]
    },
    {
     "ename": "KeyboardInterrupt",
     "evalue": "",
     "output_type": "error",
     "traceback": [
      "\u001b[1;31m---------------------------------------------------------------------------\u001b[0m",
      "\u001b[1;31mKeyboardInterrupt\u001b[0m                         Traceback (most recent call last)",
      "Input \u001b[1;32mIn [56]\u001b[0m, in \u001b[0;36m<module>\u001b[1;34m\u001b[0m\n\u001b[1;32m----> 1\u001b[0m \u001b[43magri_som\u001b[49m\u001b[38;5;241;43m.\u001b[39;49m\u001b[43mtrain\u001b[49m\u001b[43m(\u001b[49m\u001b[43mtrunc_data\u001b[49m\u001b[38;5;241;43m.\u001b[39;49m\u001b[43mvalues\u001b[49m\u001b[43m,\u001b[49m\n\u001b[0;32m      2\u001b[0m \u001b[43m          \u001b[49m\u001b[43mnum_epochs\u001b[49m\u001b[38;5;241;43m=\u001b[39;49m\u001b[38;5;241;43m200\u001b[39;49m\u001b[43m,\u001b[49m\n\u001b[0;32m      3\u001b[0m \u001b[43m          \u001b[49m\u001b[43minit_learning_rate\u001b[49m\u001b[38;5;241;43m=\u001b[39;49m\u001b[38;5;241;43m0.01\u001b[39;49m\n\u001b[0;32m      4\u001b[0m \u001b[43m          \u001b[49m\u001b[43m)\u001b[49m\n",
      "File \u001b[1;32mc:\\Users\\iCETEE\\Documents\\GitHub\\TMBD-Project-3\\our_som1.py:106\u001b[0m, in \u001b[0;36mSOM.train\u001b[1;34m(self, data, num_epochs, init_learning_rate, resetWeights)\u001b[0m\n\u001b[0;32m    104\u001b[0m                     influence \u001b[38;5;241m=\u001b[39m SOM\u001b[38;5;241m.\u001b[39mcalculate_influence(w_dist, radius)\n\u001b[0;32m    105\u001b[0m                     new_w \u001b[38;5;241m=\u001b[39m weight \u001b[38;5;241m+\u001b[39m (learning_rate \u001b[38;5;241m*\u001b[39m influence \u001b[38;5;241m*\u001b[39m (row_t \u001b[38;5;241m-\u001b[39m weight))\n\u001b[1;32m--> 106\u001b[0m                     \u001b[38;5;28mself\u001b[39m\u001b[38;5;241m.\u001b[39mnet[x, y, :] \u001b[38;5;241m=\u001b[39m new_w\u001b[38;5;241m.\u001b[39mreshape(\u001b[38;5;241m1\u001b[39m, \u001b[38;5;28mself\u001b[39m\u001b[38;5;241m.\u001b[39mnum_features)\n\u001b[0;32m    107\u001b[0m \u001b[38;5;28;01mif\u001b[39;00m fig \u001b[38;5;129;01mis\u001b[39;00m \u001b[38;5;129;01mnot\u001b[39;00m \u001b[38;5;28;01mNone\u001b[39;00m:\n\u001b[0;32m    108\u001b[0m     plt\u001b[38;5;241m.\u001b[39mshow()\n",
      "\u001b[1;31mKeyboardInterrupt\u001b[0m: "
     ]
    },
    {
     "data": {
      "image/png": "[encoded data removed]",
      "text/plain": [
       "<Figure size 432x288 with 6 Axes>"
      ]
     },
     "metadata": {
      "needs_background": "light"
     },
     "output_type": "display_data"
    }
   ],
   "source": [
    "agri_som.train(trunc_data.values,\n",
    "          num_epochs=200,\n",
    "          init_learning_rate=0.01\n",
    "          )"
   ]
  },
  {
   "cell_type": "markdown",
   "metadata": {},
   "source": [
    "Notice: \n",
    "\n",
    "- after 60 Epochs, the network changed from random colors (initialization) to nearly constant color; this means that initial neighbourhood is large, so each neuron’s weight are being adjusted according to data.\n",
    "\n",
    "- Slowly, the network develops different color according to input data structures/patterns, but, you can notice similar colors are neighbors to one another.\n",
    "\n",
    "- Since there was a random initialization, the positions of colors may change but the topology will be preserved."
   ]
  },
  {
   "cell_type": "markdown",
   "metadata": {},
   "source": [
    "## Prediction and Analysis"
   ]
  },
  {
   "cell_type": "code",
   "execution_count": null,
   "metadata": {},
   "outputs": [
    {
     "data": {
      "text/html": [
       "<div>\n",
       "<style scoped>\n",
       "    .dataframe tbody tr th:only-of-type {\n",
       "        vertical-align: middle;\n",
       "    }\n",
       "\n",
       "    .dataframe tbody tr th {\n",
       "        vertical-align: top;\n",
       "    }\n",
       "\n",
       "    .dataframe thead th {\n",
       "        text-align: right;\n",
       "    }\n",
       "</style>\n",
       "<table border=\"1\" class=\"dataframe\">\n",
       "  <thead>\n",
       "    <tr style=\"text-align: right;\">\n",
       "      <th></th>\n",
       "      <th>Area</th>\n",
       "      <th>Production</th>\n",
       "      <th>Yield</th>\n",
       "      <th>bmu</th>\n",
       "      <th>bmu_idx</th>\n",
       "    </tr>\n",
       "  </thead>\n",
       "  <tbody>\n",
       "    <tr>\n",
       "      <th>15</th>\n",
       "      <td>0.995799</td>\n",
       "      <td>0.051661</td>\n",
       "      <td>0.016088</td>\n",
       "      <td>[[0.8594453260920799, 0.04826535901476234, 0.0...</td>\n",
       "      <td>[2, 2]</td>\n",
       "    </tr>\n",
       "    <tr>\n",
       "      <th>5</th>\n",
       "      <td>0.806915</td>\n",
       "      <td>0.041269</td>\n",
       "      <td>0.015864</td>\n",
       "      <td>[[0.8594453260920799, 0.04826535901476234, 0.0...</td>\n",
       "      <td>[2, 2]</td>\n",
       "    </tr>\n",
       "    <tr>\n",
       "      <th>60</th>\n",
       "      <td>0.018889</td>\n",
       "      <td>0.001456</td>\n",
       "      <td>0.023920</td>\n",
       "      <td>[[0.05949386703418166, 0.013700427253567614, 0...</td>\n",
       "      <td>[2, 0]</td>\n",
       "    </tr>\n",
       "    <tr>\n",
       "      <th>24</th>\n",
       "      <td>0.421049</td>\n",
       "      <td>0.238605</td>\n",
       "      <td>0.175821</td>\n",
       "      <td>[[0.37215734328268907, 0.23628264365810145, 0....</td>\n",
       "      <td>[1, 1]</td>\n",
       "    </tr>\n",
       "    <tr>\n",
       "      <th>52</th>\n",
       "      <td>0.031655</td>\n",
       "      <td>0.002292</td>\n",
       "      <td>0.022478</td>\n",
       "      <td>[[0.05949386703418166, 0.013700427253567614, 0...</td>\n",
       "      <td>[2, 0]</td>\n",
       "    </tr>\n",
       "    <tr>\n",
       "      <th>86</th>\n",
       "      <td>0.104186</td>\n",
       "      <td>0.009870</td>\n",
       "      <td>0.029391</td>\n",
       "      <td>[[0.05949386703418166, 0.013700427253567614, 0...</td>\n",
       "      <td>[2, 0]</td>\n",
       "    </tr>\n",
       "    <tr>\n",
       "      <th>59</th>\n",
       "      <td>0.020023</td>\n",
       "      <td>0.001584</td>\n",
       "      <td>0.024542</td>\n",
       "      <td>[[0.05949386703418166, 0.013700427253567614, 0...</td>\n",
       "      <td>[2, 0]</td>\n",
       "    </tr>\n",
       "    <tr>\n",
       "      <th>100</th>\n",
       "      <td>0.059282</td>\n",
       "      <td>0.006899</td>\n",
       "      <td>0.036104</td>\n",
       "      <td>[[0.05949386703418166, 0.013700427253567614, 0...</td>\n",
       "      <td>[2, 0]</td>\n",
       "    </tr>\n",
       "    <tr>\n",
       "      <th>7</th>\n",
       "      <td>0.811694</td>\n",
       "      <td>0.036968</td>\n",
       "      <td>0.014123</td>\n",
       "      <td>[[0.8594453260920799, 0.04826535901476234, 0.0...</td>\n",
       "      <td>[2, 2]</td>\n",
       "    </tr>\n",
       "    <tr>\n",
       "      <th>103</th>\n",
       "      <td>0.061913</td>\n",
       "      <td>0.007108</td>\n",
       "      <td>0.035632</td>\n",
       "      <td>[[0.05949386703418166, 0.013700427253567614, 0...</td>\n",
       "      <td>[2, 0]</td>\n",
       "    </tr>\n",
       "  </tbody>\n",
       "</table>\n",
       "</div>"
      ],
      "text/plain": [
       "         Area  Production     Yield  \\\n",
       "15   0.995799    0.051661  0.016088   \n",
       "5    0.806915    0.041269  0.015864   \n",
       "60   0.018889    0.001456  0.023920   \n",
       "24   0.421049    0.238605  0.175821   \n",
       "52   0.031655    0.002292  0.022478   \n",
       "86   0.104186    0.009870  0.029391   \n",
       "59   0.020023    0.001584  0.024542   \n",
       "100  0.059282    0.006899  0.036104   \n",
       "7    0.811694    0.036968  0.014123   \n",
       "103  0.061913    0.007108  0.035632   \n",
       "\n",
       "                                                   bmu bmu_idx  \n",
       "15   [[0.8594453260920799, 0.04826535901476234, 0.0...  [2, 2]  \n",
       "5    [[0.8594453260920799, 0.04826535901476234, 0.0...  [2, 2]  \n",
       "60   [[0.05949386703418166, 0.013700427253567614, 0...  [2, 0]  \n",
       "24   [[0.37215734328268907, 0.23628264365810145, 0....  [1, 1]  \n",
       "52   [[0.05949386703418166, 0.013700427253567614, 0...  [2, 0]  \n",
       "86   [[0.05949386703418166, 0.013700427253567614, 0...  [2, 0]  \n",
       "59   [[0.05949386703418166, 0.013700427253567614, 0...  [2, 0]  \n",
       "100  [[0.05949386703418166, 0.013700427253567614, 0...  [2, 0]  \n",
       "7    [[0.8594453260920799, 0.04826535901476234, 0.0...  [2, 2]  \n",
       "103  [[0.05949386703418166, 0.013700427253567614, 0...  [2, 0]  "
      ]
     },
     "execution_count": 22,
     "metadata": {},
     "output_type": "execute_result"
    }
   ],
   "source": [
    "def predict(df):\n",
    "    bmu, bmu_idx = agri_som.find_bmu(df.values)\n",
    "    df['bmu'] = bmu\n",
    "    df['bmu_idx'] = bmu_idx\n",
    "    return df\n",
    "clustered_df = trunc_data.apply(predict, axis=1)\n",
    "clustered_df.iloc[0:10]"
   ]
  },
  {
   "cell_type": "markdown",
   "metadata": {},
   "source": [
    "Now, joininig the labelled initial data"
   ]
  },
  {
   "cell_type": "code",
   "execution_count": null,
   "metadata": {},
   "outputs": [
    {
     "data": {
      "text/html": [
       "<div>\n",
       "<style scoped>\n",
       "    .dataframe tbody tr th:only-of-type {\n",
       "        vertical-align: middle;\n",
       "    }\n",
       "\n",
       "    .dataframe tbody tr th {\n",
       "        vertical-align: top;\n",
       "    }\n",
       "\n",
       "    .dataframe thead th {\n",
       "        text-align: right;\n",
       "    }\n",
       "</style>\n",
       "<table border=\"1\" class=\"dataframe\">\n",
       "  <thead>\n",
       "    <tr style=\"text-align: right;\">\n",
       "      <th></th>\n",
       "      <th>Year AD</th>\n",
       "      <th>Year BS</th>\n",
       "      <th>Crop</th>\n",
       "      <th>Area</th>\n",
       "      <th>Production</th>\n",
       "      <th>Yield</th>\n",
       "      <th>Area_norm</th>\n",
       "      <th>Production_norm</th>\n",
       "      <th>Yield_norm</th>\n",
       "      <th>bmu</th>\n",
       "      <th>bmu_idx</th>\n",
       "    </tr>\n",
       "  </thead>\n",
       "  <tbody>\n",
       "    <tr>\n",
       "      <th>15</th>\n",
       "      <td>1999/2000</td>\n",
       "      <td>2056/57</td>\n",
       "      <td>OILSEED</td>\n",
       "      <td>189629</td>\n",
       "      <td>122751</td>\n",
       "      <td>647</td>\n",
       "      <td>0.995799</td>\n",
       "      <td>0.051661</td>\n",
       "      <td>0.016088</td>\n",
       "      <td>[[0.8594453260920799, 0.04826535901476234, 0.0...</td>\n",
       "      <td>[2, 2]</td>\n",
       "    </tr>\n",
       "    <tr>\n",
       "      <th>5</th>\n",
       "      <td>1989/90</td>\n",
       "      <td>2046/47</td>\n",
       "      <td>OILSEED</td>\n",
       "      <td>153660</td>\n",
       "      <td>98060</td>\n",
       "      <td>638</td>\n",
       "      <td>0.806915</td>\n",
       "      <td>0.041269</td>\n",
       "      <td>0.015864</td>\n",
       "      <td>[[0.8594453260920799, 0.04826535901476234, 0.0...</td>\n",
       "      <td>[2, 2]</td>\n",
       "    </tr>\n",
       "    <tr>\n",
       "      <th>60</th>\n",
       "      <td>2002/2003</td>\n",
       "      <td>2059/60</td>\n",
       "      <td>TOBACCO</td>\n",
       "      <td>3597</td>\n",
       "      <td>3460</td>\n",
       "      <td>962</td>\n",
       "      <td>0.018889</td>\n",
       "      <td>0.001456</td>\n",
       "      <td>0.023920</td>\n",
       "      <td>[[0.05949386703418166, 0.013700427253567614, 0...</td>\n",
       "      <td>[2, 0]</td>\n",
       "    </tr>\n",
       "    <tr>\n",
       "      <th>24</th>\n",
       "      <td>1987/88</td>\n",
       "      <td>2044/45</td>\n",
       "      <td>POTATO</td>\n",
       "      <td>80180</td>\n",
       "      <td>566950</td>\n",
       "      <td>7071</td>\n",
       "      <td>0.421049</td>\n",
       "      <td>0.238605</td>\n",
       "      <td>0.175821</td>\n",
       "      <td>[[0.37215734328268907, 0.23628264365810145, 0....</td>\n",
       "      <td>[1, 1]</td>\n",
       "    </tr>\n",
       "    <tr>\n",
       "      <th>52</th>\n",
       "      <td>1994/95</td>\n",
       "      <td>2051/52</td>\n",
       "      <td>TOBACCO</td>\n",
       "      <td>6028</td>\n",
       "      <td>5447</td>\n",
       "      <td>904</td>\n",
       "      <td>0.031655</td>\n",
       "      <td>0.002292</td>\n",
       "      <td>0.022478</td>\n",
       "      <td>[[0.05949386703418166, 0.013700427253567614, 0...</td>\n",
       "      <td>[2, 0]</td>\n",
       "    </tr>\n",
       "    <tr>\n",
       "      <th>86</th>\n",
       "      <td>1986/87</td>\n",
       "      <td>2043/44</td>\n",
       "      <td>JUTE</td>\n",
       "      <td>19840</td>\n",
       "      <td>23452</td>\n",
       "      <td>1182</td>\n",
       "      <td>0.104186</td>\n",
       "      <td>0.009870</td>\n",
       "      <td>0.029391</td>\n",
       "      <td>[[0.05949386703418166, 0.013700427253567614, 0...</td>\n",
       "      <td>[2, 0]</td>\n",
       "    </tr>\n",
       "    <tr>\n",
       "      <th>59</th>\n",
       "      <td>2001/2002</td>\n",
       "      <td>2058/59</td>\n",
       "      <td>TOBACCO</td>\n",
       "      <td>3813</td>\n",
       "      <td>3763</td>\n",
       "      <td>987</td>\n",
       "      <td>0.020023</td>\n",
       "      <td>0.001584</td>\n",
       "      <td>0.024542</td>\n",
       "      <td>[[0.05949386703418166, 0.013700427253567614, 0...</td>\n",
       "      <td>[2, 0]</td>\n",
       "    </tr>\n",
       "    <tr>\n",
       "      <th>100</th>\n",
       "      <td>2000/2001</td>\n",
       "      <td>2057/58</td>\n",
       "      <td>JUTE</td>\n",
       "      <td>11289</td>\n",
       "      <td>16392</td>\n",
       "      <td>1452</td>\n",
       "      <td>0.059282</td>\n",
       "      <td>0.006899</td>\n",
       "      <td>0.036104</td>\n",
       "      <td>[[0.05949386703418166, 0.013700427253567614, 0...</td>\n",
       "      <td>[2, 0]</td>\n",
       "    </tr>\n",
       "    <tr>\n",
       "      <th>7</th>\n",
       "      <td>1991/92</td>\n",
       "      <td>2048/49</td>\n",
       "      <td>OILSEED</td>\n",
       "      <td>154570</td>\n",
       "      <td>87840</td>\n",
       "      <td>568</td>\n",
       "      <td>0.811694</td>\n",
       "      <td>0.036968</td>\n",
       "      <td>0.014123</td>\n",
       "      <td>[[0.8594453260920799, 0.04826535901476234, 0.0...</td>\n",
       "      <td>[2, 2]</td>\n",
       "    </tr>\n",
       "    <tr>\n",
       "      <th>103</th>\n",
       "      <td>2003/2004</td>\n",
       "      <td>2060/61</td>\n",
       "      <td>JUTE</td>\n",
       "      <td>11790</td>\n",
       "      <td>16890</td>\n",
       "      <td>1433</td>\n",
       "      <td>0.061913</td>\n",
       "      <td>0.007108</td>\n",
       "      <td>0.035632</td>\n",
       "      <td>[[0.05949386703418166, 0.013700427253567614, 0...</td>\n",
       "      <td>[2, 0]</td>\n",
       "    </tr>\n",
       "  </tbody>\n",
       "</table>\n",
       "</div>"
      ],
      "text/plain": [
       "       Year AD  Year BS     Crop    Area  Production  Yield  Area_norm  \\\n",
       "15   1999/2000  2056/57  OILSEED  189629      122751    647   0.995799   \n",
       "5      1989/90  2046/47  OILSEED  153660       98060    638   0.806915   \n",
       "60   2002/2003  2059/60  TOBACCO    3597        3460    962   0.018889   \n",
       "24     1987/88  2044/45   POTATO   80180      566950   7071   0.421049   \n",
       "52     1994/95  2051/52  TOBACCO    6028        5447    904   0.031655   \n",
       "86     1986/87  2043/44     JUTE   19840       23452   1182   0.104186   \n",
       "59   2001/2002  2058/59  TOBACCO    3813        3763    987   0.020023   \n",
       "100  2000/2001  2057/58     JUTE   11289       16392   1452   0.059282   \n",
       "7      1991/92  2048/49  OILSEED  154570       87840    568   0.811694   \n",
       "103  2003/2004  2060/61     JUTE   11790       16890   1433   0.061913   \n",
       "\n",
       "     Production_norm  Yield_norm  \\\n",
       "15          0.051661    0.016088   \n",
       "5           0.041269    0.015864   \n",
       "60          0.001456    0.023920   \n",
       "24          0.238605    0.175821   \n",
       "52          0.002292    0.022478   \n",
       "86          0.009870    0.029391   \n",
       "59          0.001584    0.024542   \n",
       "100         0.006899    0.036104   \n",
       "7           0.036968    0.014123   \n",
       "103         0.007108    0.035632   \n",
       "\n",
       "                                                   bmu bmu_idx  \n",
       "15   [[0.8594453260920799, 0.04826535901476234, 0.0...  [2, 2]  \n",
       "5    [[0.8594453260920799, 0.04826535901476234, 0.0...  [2, 2]  \n",
       "60   [[0.05949386703418166, 0.013700427253567614, 0...  [2, 0]  \n",
       "24   [[0.37215734328268907, 0.23628264365810145, 0....  [1, 1]  \n",
       "52   [[0.05949386703418166, 0.013700427253567614, 0...  [2, 0]  \n",
       "86   [[0.05949386703418166, 0.013700427253567614, 0...  [2, 0]  \n",
       "59   [[0.05949386703418166, 0.013700427253567614, 0...  [2, 0]  \n",
       "100  [[0.05949386703418166, 0.013700427253567614, 0...  [2, 0]  \n",
       "7    [[0.8594453260920799, 0.04826535901476234, 0.0...  [2, 2]  \n",
       "103  [[0.05949386703418166, 0.013700427253567614, 0...  [2, 0]  "
      ]
     },
     "execution_count": 23,
     "metadata": {},
     "output_type": "execute_result"
    }
   ],
   "source": [
    "joined_df = agri_data.join(clustered_df, rsuffix=\"_norm\")\n",
    "joined_df[0:10]"
   ]
  },
  {
   "cell_type": "markdown",
   "metadata": {},
   "source": [
    "Visualize how the original data gets clustered in the SOM"
   ]
  },
  {
   "cell_type": "code",
   "execution_count": null,
   "metadata": {},
   "outputs": [
    {
     "data": {
      "image/png": "[encoded data removed]",
      "text/plain": [
       "<Figure size 432x288 with 1 Axes>"
      ]
     },
     "metadata": {
      "needs_background": "light"
     },
     "output_type": "display_data"
    }
   ],
   "source": [
    "from matplotlib import pyplot as plt\n",
    "from matplotlib import patches as patches\n",
    "import matplotlib.lines as mlines\n",
    "\n",
    "fig = plt.figure()\n",
    "# setup axes\n",
    "ax = fig.add_subplot(111)\n",
    "scale = 50\n",
    "ax.set_xlim((0, agri_som.net.shape[0]*scale))\n",
    "ax.set_ylim((0, agri_som.net.shape[1]*scale))\n",
    "ax.set_title(\"Cash Crops Clustering by using SOM\")\n",
    "\n",
    "for x in range(0, agri_som.net.shape[0]):\n",
    "    for y in range(0, agri_som.net.shape[1]):\n",
    "        ax.add_patch(patches.Rectangle((x*scale, y*scale), scale, scale,\n",
    "                     facecolor='white',\n",
    "                     edgecolor='grey'))\n",
    "legend_map = {}\n",
    "        \n",
    "for index, row in joined_df.iterrows():\n",
    "    x_cor = row['bmu_idx'][0] * scale\n",
    "    y_cor = row['bmu_idx'][1] * scale\n",
    "    x_cor = np.random.randint(x_cor, x_cor + scale)\n",
    "    y_cor = np.random.randint(y_cor, y_cor + scale)\n",
    "    color = row['bmu'][0]\n",
    "    marker = \"$\\\\ \" + row['Crop'][0]+\"$\"\n",
    "    marker = marker.lower()\n",
    "    ax.plot(x_cor, y_cor, color=color, marker=marker, markersize=10)\n",
    "    label = row['Crop']\n",
    "    if not label in legend_map:\n",
    "        legend_map[label] =  mlines.Line2D([], [], color='black', marker=marker, linestyle='None',\n",
    "                          markersize=10, label=label)\n",
    "plt.legend(handles=list(legend_map.values()), bbox_to_anchor=(1, 1))\n",
    "plt.show()"
   ]
  },
  {
   "cell_type": "code",
   "execution_count": null,
   "metadata": {},
   "outputs": [
    {
     "name": "stdout",
     "output_type": "stream",
     "text": [
      "        Area  Production     Yield\n",
      "60  0.018889    0.001456  0.023920\n",
      "52  0.031655    0.002292  0.022478\n",
      "59  0.020023    0.001584  0.024542\n",
      "44  0.046316    0.002058  0.013775\n",
      "53  0.032190    0.002319  0.022354\n",
      "46  0.038334    0.002264  0.018326\n",
      "48  0.038282    0.002938  0.023796\n",
      "43  0.045581    0.001970  0.013402\n",
      "61  0.017844    0.001393  0.024219\n",
      "62  0.015770    0.001269  0.024965\n",
      "45  0.033976    0.001877  0.017132\n",
      "42  0.044899    0.002706  0.018699\n",
      "49  0.034238    0.002527  0.022901\n",
      "51  0.035404    0.002619  0.022950\n",
      "54  0.029775    0.001885  0.019643\n",
      "56  0.023221    0.001646  0.021981\n",
      "47  0.039962    0.002778  0.021558\n",
      "57  0.022491    0.001603  0.022105\n",
      "58  0.022192    0.001672  0.023373\n",
      "55  0.025579    0.001618  0.019619\n",
      "50  0.034974    0.002534  0.022478\n"
     ]
    },
    {
     "name": "stderr",
     "output_type": "stream",
     "text": [
      "<ipython-input-25-26c8160db52b>:1: UserWarning: Boolean Series key will be reindexed to match DataFrame index.\n",
      "  dataT = trunc_data[data['Crop']=='TOBACCO']\n"
     ]
    }
   ],
   "source": [
    "dataT = trunc_data[data['Crop']=='TOBACCO']\n",
    "print(dataT)"
   ]
  },
  {
   "cell_type": "code",
   "execution_count": null,
   "metadata": {},
   "outputs": [
    {
     "name": "stdout",
     "output_type": "stream",
     "text": [
      "Area          0.046316\n",
      "Production    0.002938\n",
      "Yield         0.024965\n",
      "dtype: float64\n"
     ]
    }
   ],
   "source": [
    "print(dataT.max())"
   ]
  },
  {
   "cell_type": "code",
   "execution_count": null,
   "metadata": {},
   "outputs": [
    {
     "name": "stdout",
     "output_type": "stream",
     "text": [
      "Area          0.047262\n",
      "Production    0.004209\n",
      "Yield         0.025959\n",
      "dtype: float64\n"
     ]
    },
    {
     "name": "stderr",
     "output_type": "stream",
     "text": [
      "<ipython-input-27-509d508cc730>:1: UserWarning: Boolean Series key will be reindexed to match DataFrame index.\n",
      "  dataT = trunc_data[data['Crop']=='JUTE']\n"
     ]
    }
   ],
   "source": [
    "dataT = trunc_data[data['Crop']=='JUTE']\n",
    "print(dataT.min())"
   ]
  },
  {
   "cell_type": "code",
   "execution_count": null,
   "metadata": {},
   "outputs": [
    {
     "name": "stdout",
     "output_type": "stream",
     "text": [
      "Area          0.077544\n",
      "Production    0.007860\n",
      "Yield         0.031578\n",
      "dtype: float64\n"
     ]
    }
   ],
   "source": [
    "print(dataT.mean())"
   ]
  },
  {
   "cell_type": "code",
   "execution_count": null,
   "metadata": {
    "collapsed": false,
    "pycharm": {
     "name": "#%%\n"
    }
   },
   "outputs": [],
   "source": []
  }
 ],
 "metadata": {
  "kernelspec": {
   "display_name": "Python 3.8.2 64-bit",
   "metadata": {
    "interpreter": {
     "hash": "31f2aee4e71d21fbe5cf8b01ff0e069b9275f58929596ceb00d14d90e3e16cd6"
    }
   },
   "name": "python3"
  },
  "language_info": {
   "codemirror_mode": {
    "name": "ipython",
    "version": 3
   },
   "file_extension": ".py",
   "mimetype": "text/x-python",
   "name": "python",
   "nbconvert_exporter": "python",
   "pygments_lexer": "ipython3",
   "version": "3.8.9"
  }
 },
 "nbformat": 4,
 "nbformat_minor": 2
}
